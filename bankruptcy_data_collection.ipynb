{
 "cells": [
  {
   "cell_type": "code",
   "execution_count": 1,
   "metadata": {},
   "outputs": [],
   "source": [
    "from selenium import webdriver\n",
    "import pandas as pd \n",
    "import datetime\n",
    "import time\n",
    "import glob"
   ]
  },
  {
   "cell_type": "code",
   "execution_count": 12,
   "metadata": {},
   "outputs": [],
   "source": [
    "browser = webdriver.Firefox(executable_path='/usr/local/bin/geckodriver')"
   ]
  },
  {
   "cell_type": "code",
   "execution_count": 13,
   "metadata": {},
   "outputs": [],
   "source": [
    "browser.get('https://bankrot.fedresurs.ru/Messages.aspx')"
   ]
  },
  {
   "cell_type": "code",
   "execution_count": 14,
   "metadata": {},
   "outputs": [],
   "source": [
    "browser.find_element_by_id('ctl00_cphBody_ucRegion_ddlBoundList').send_keys('г. Москва')\n",
    "datelist = pd.date_range('2019-01-01', periods=(datetime.date.today() - datetime.date(2019, 1, 1)).days)"
   ]
  },
  {
   "cell_type": "code",
   "execution_count": 18,
   "metadata": {},
   "outputs": [],
   "source": [
    "# save first excel file manually and click \"Do this automatically for files like this from now on\"\n",
    "date = datelist[0].strftime('%d.%m.%Y')\n",
    "browser.find_element_by_id('ctl00_cphBody_cldrBeginDate_tbSelectedDate').clear()\n",
    "browser.find_element_by_id('ctl00_cphBody_cldrBeginDate_tbSelectedDate').send_keys(date)\n",
    "browser.find_element_by_id('ctl00_cphBody_cldrEndDate_tbSelectedDate').clear()\n",
    "browser.find_element_by_id('ctl00_cphBody_cldrEndDate_tbSelectedDate').send_keys(date)\n",
    "browser.find_element_by_id('ctl00_cphBody_ibMessagesSearch').click()\n",
    "time.sleep(1)\n",
    "browser.find_element_by_id('ctl00_cphBody_lnkbtnExcelExport').click()"
   ]
  },
  {
   "cell_type": "code",
   "execution_count": 19,
   "metadata": {},
   "outputs": [],
   "source": [
    "# this saves all the remaining files automatically \n",
    "for i in range(len(datelist)):\n",
    "    date = datelist[i].strftime('%d.%m.%Y')\n",
    "    browser.find_element_by_id('ctl00_cphBody_cldrBeginDate_tbSelectedDate').clear()\n",
    "    browser.find_element_by_id('ctl00_cphBody_cldrBeginDate_tbSelectedDate').send_keys(date)\n",
    "    browser.find_element_by_id('ctl00_cphBody_cldrEndDate_tbSelectedDate').clear()\n",
    "    browser.find_element_by_id('ctl00_cphBody_cldrEndDate_tbSelectedDate').send_keys(date)\n",
    "    browser.find_element_by_id('ctl00_cphBody_ibMessagesSearch').click()\n",
    "    time.sleep(1)\n",
    "    browser.find_element_by_id('ctl00_cphBody_lnkbtnExcelExport').click()\n",
    "    time.sleep(1)"
   ]
  },
  {
   "cell_type": "code",
   "execution_count": 20,
   "metadata": {},
   "outputs": [],
   "source": [
    "# delete MessageSearchResult.xls because it's a duplicate of MessageSearchResult(1).xls\n",
    "# merge .xls files\n",
    "file_list = glob.glob('raw_data/*.xls')\n",
    "\n",
    "appended_data = []\n",
    "for file in file_list:\n",
    "    data = pd.read_html(file)\n",
    "    appended_data.append(data[0])\n",
    "    \n",
    "appended_data = pd.concat(appended_data)"
   ]
  },
  {
   "cell_type": "code",
   "execution_count": 25,
   "metadata": {},
   "outputs": [],
   "source": [
    "appended_data.to_excel('clean_data/bankruptcy_messgs.xlsx') "
   ]
  },
  {
   "cell_type": "code",
   "execution_count": null,
   "metadata": {},
   "outputs": [],
   "source": []
  }
 ],
 "metadata": {
  "kernelspec": {
   "display_name": "Python 3",
   "language": "python",
   "name": "python3"
  },
  "language_info": {
   "codemirror_mode": {
    "name": "ipython",
    "version": 3
   },
   "file_extension": ".py",
   "mimetype": "text/x-python",
   "name": "python",
   "nbconvert_exporter": "python",
   "pygments_lexer": "ipython3",
   "version": "3.7.4"
  }
 },
 "nbformat": 4,
 "nbformat_minor": 2
}
